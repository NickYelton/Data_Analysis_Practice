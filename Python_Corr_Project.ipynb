{
 "cells": [
  {
   "cell_type": "code",
   "execution_count": null,
   "id": "7d00b3c3",
   "metadata": {},
   "outputs": [],
   "source": [
    "import pandas as pd\n",
    "import numpy as np\n",
    "import seaborn as sns\n",
    "\n",
    "import matplotlib.pyplot as plt\n",
    "import matplotlib.mlab as mlab\n",
    "import matplotlib\n",
    "plt.style.use('ggplot')\n",
    "from matplotlib.pyplot import figure\n",
    "\n",
    "%matplotlib inline\n",
    "matplotlib.rcParams['figure.figsize'] = (12,8)\n",
    "\n",
    "pd.options.mode.chained_assignment = None\n",
    "\n",
    "\n",
    "\n",
    "\n",
    "df = pd.read_csv(r'C:\\Users\\nicho\\data_storage\\movies.csv')\n"
   ]
  },
  {
   "cell_type": "code",
   "execution_count": null,
   "id": "307bf242",
   "metadata": {},
   "outputs": [],
   "source": [
    "#View dataframe\n",
    "\n",
    "df"
   ]
  },
  {
   "cell_type": "code",
   "execution_count": null,
   "id": "4191e069",
   "metadata": {},
   "outputs": [],
   "source": [
    "#Check for missing values\n",
    "\n",
    "for col in df.columns:\n",
    "    pct_missing = np.mean(df[col].isnull())\n",
    "    print('{} - {}%'.format(col, round(pct_missing*100)))"
   ]
  },
  {
   "cell_type": "code",
   "execution_count": null,
   "id": "80396ae4",
   "metadata": {},
   "outputs": [],
   "source": [
    "# Data Types for columns\n",
    "\n",
    "print(df.dtypes)"
   ]
  },
  {
   "cell_type": "code",
   "execution_count": null,
   "id": "4196a8df",
   "metadata": {},
   "outputs": [],
   "source": [
    "# Outliers?\n",
    "\n",
    "df.boxplot(column=['gross'])"
   ]
  },
  {
   "cell_type": "code",
   "execution_count": null,
   "id": "fb32493c",
   "metadata": {},
   "outputs": [],
   "source": [
    "df.drop_duplicates()"
   ]
  },
  {
   "cell_type": "code",
   "execution_count": null,
   "id": "7e2d6008",
   "metadata": {},
   "outputs": [],
   "source": [
    "# Order data\n",
    "\n",
    "df.sort_values(by=['gross'], inplace=False, ascending=False)\n"
   ]
  },
  {
   "cell_type": "code",
   "execution_count": null,
   "id": "41dff82f",
   "metadata": {},
   "outputs": [],
   "source": [
    "sns.regplot(x=\"gross\", y=\"budget\", data=df)"
   ]
  },
  {
   "cell_type": "code",
   "execution_count": null,
   "id": "04da3bcc",
   "metadata": {},
   "outputs": [],
   "source": [
    "sns.regplot(x=\"score\", y=\"gross\", data=df)"
   ]
  },
  {
   "cell_type": "code",
   "execution_count": null,
   "id": "dad24a4c",
   "metadata": {},
   "outputs": [],
   "source": [
    "# Correlation Matrix between all numeric columns\n",
    "\n",
    "df.corr(method ='pearson')"
   ]
  },
  {
   "cell_type": "code",
   "execution_count": null,
   "id": "b444ed0f",
   "metadata": {},
   "outputs": [],
   "source": [
    "df.corr(method ='kendall')"
   ]
  },
  {
   "cell_type": "code",
   "execution_count": null,
   "id": "4a49acd7",
   "metadata": {},
   "outputs": [],
   "source": [
    "df.corr(method ='spearman')"
   ]
  },
  {
   "cell_type": "code",
   "execution_count": null,
   "id": "e5c9a0bd",
   "metadata": {},
   "outputs": [],
   "source": [
    "correlation_matrix = df.corr()\n",
    "\n",
    "sns.heatmap(correlation_matrix, annot = True)\n",
    "\n",
    "plt.title(\"Correlation matrix for Numeric Features\")\n",
    "\n",
    "plt.xlabel(\"Movie features\")\n",
    "\n",
    "plt.ylabel(\"Movie features\")\n",
    "\n",
    "plt.show()"
   ]
  },
  {
   "cell_type": "code",
   "execution_count": null,
   "id": "c16e784b",
   "metadata": {},
   "outputs": [],
   "source": [
    "# Using factorize ie. assigning a random numeric value for each unique categorical value\n",
    "\n",
    "df.apply(lambda x: x.factorize()[0]).corr(method='pearson')"
   ]
  },
  {
   "cell_type": "code",
   "execution_count": null,
   "id": "f9ca55d9",
   "metadata": {},
   "outputs": [],
   "source": [
    "correlation_matrix = df.apply(lambda x: x.factorize()[0]).corr(method='pearson')\n",
    "\n",
    "sns.heatmap(correlation_matrix, annot = True)\n",
    "\n",
    "plt.title(\"Correlation matrix for Movies\")\n",
    "\n",
    "plt.xlabel(\"Movie features\")\n",
    "\n",
    "plt.ylabel(\"Movie features\")\n",
    "\n",
    "plt.show()"
   ]
  },
  {
   "cell_type": "code",
   "execution_count": null,
   "id": "3974020c",
   "metadata": {},
   "outputs": [],
   "source": [
    "correlation_mat = df.apply(lambda x: x.factorize()[0]).corr()\n",
    "\n",
    "corr_pairs = correlation_mat.unstack()\n",
    "\n",
    "print(corr_pairs)"
   ]
  },
  {
   "cell_type": "code",
   "execution_count": null,
   "id": "d48a7bf7",
   "metadata": {},
   "outputs": [],
   "source": [
    "sorted_pairs = corr_pairs.sort_values(kind=\"quicksort\")\n",
    "\n",
    "print(sorted_pairs)"
   ]
  },
  {
   "cell_type": "code",
   "execution_count": null,
   "id": "44a35c82",
   "metadata": {},
   "outputs": [],
   "source": [
    "#Look at the ones that have a high correlation (> 0.5)\n",
    "\n",
    "strong_pairs = sorted_pairs[abs(sorted_pairs) > 0.5]\n",
    "\n",
    "print(strong_pairs)"
   ]
  },
  {
   "cell_type": "code",
   "execution_count": null,
   "id": "dca5c109",
   "metadata": {},
   "outputs": [],
   "source": [
    "# Looking at the top 15 compaies by gross revenue\n",
    "\n",
    "CompanyGrossSum = df.groupby('company')[[\"gross\"]].sum()\n",
    "\n",
    "CompanyGrossSumSorted = CompanyGrossSum.sort_values('gross', ascending = False)[:15]\n",
    "\n",
    "CompanyGrossSumSorted = CompanyGrossSumSorted['gross'].astype('int64') \n",
    "\n",
    "CompanyGrossSumSorted"
   ]
  },
  {
   "cell_type": "code",
   "execution_count": null,
   "id": "616ffeec",
   "metadata": {},
   "outputs": [],
   "source": [
    "df['Year'] = df['released'].astype(str).str[:4]\n",
    "df"
   ]
  },
  {
   "cell_type": "code",
   "execution_count": null,
   "id": "8a9ebf6c",
   "metadata": {},
   "outputs": [],
   "source": [
    "\n",
    "\n",
    "df.groupby(['company', 'year'])[[\"gross\"]].sum()"
   ]
  },
  {
   "cell_type": "code",
   "execution_count": null,
   "id": "8af21f6b",
   "metadata": {},
   "outputs": [],
   "source": [
    "\n",
    "CompanyGrossSum = df.groupby(['company', 'year'])[[\"gross\"]].sum()\n",
    "\n",
    "CompanyGrossSumSorted = CompanyGrossSum.sort_values(['gross','company','year'], ascending = False)[:15]\n",
    "\n",
    "CompanyGrossSumSorted = CompanyGrossSumSorted['gross'].astype('int64') \n",
    "\n",
    "CompanyGrossSumSorted"
   ]
  },
  {
   "cell_type": "code",
   "execution_count": null,
   "id": "0bba8f45",
   "metadata": {},
   "outputs": [],
   "source": [
    "\n",
    "CompanyGrossSum = df.groupby(['company'])[[\"gross\"]].sum()\n",
    "\n",
    "CompanyGrossSumSorted = CompanyGrossSum.sort_values(['gross','company'], ascending = False)[:15]\n",
    "\n",
    "CompanyGrossSumSorted = CompanyGrossSumSorted['gross'].astype('int64') \n",
    "\n",
    "CompanyGrossSumSorted"
   ]
  },
  {
   "cell_type": "code",
   "execution_count": null,
   "id": "8da50ac6",
   "metadata": {},
   "outputs": [],
   "source": [
    "plt.scatter(x=df['budget'], y=df['gross'], alpha=0.5)\n",
    "plt.title('Budget vs Gross Earnings')\n",
    "plt.xlabel('Gross Earnings')\n",
    "plt.ylabel('Budget for Film')\n",
    "plt.show()"
   ]
  },
  {
   "cell_type": "code",
   "execution_count": null,
   "id": "7e2da48a",
   "metadata": {},
   "outputs": [],
   "source": [
    "df\n"
   ]
  },
  {
   "cell_type": "code",
   "execution_count": null,
   "id": "f608db58",
   "metadata": {},
   "outputs": [],
   "source": [
    "df_numerized = df\n",
    "\n",
    "\n",
    "for col_name in df_numerized.columns:\n",
    "    if(df_numerized[col_name].dtype == 'object'):\n",
    "        df_numerized[col_name]= df_numerized[col_name].astype('category')\n",
    "        df_numerized[col_name] = df_numerized[col_name].cat.codes\n",
    "        \n",
    "df_numerized"
   ]
  },
  {
   "cell_type": "code",
   "execution_count": null,
   "id": "1d00d09c",
   "metadata": {},
   "outputs": [],
   "source": [
    "df_numerized.corr(method='pearson')"
   ]
  },
  {
   "cell_type": "code",
   "execution_count": null,
   "id": "af19ff4d",
   "metadata": {},
   "outputs": [],
   "source": [
    "correlation_matrix = df_numerized.corr(method='pearson')\n",
    "\n",
    "sns.heatmap(correlation_matrix, annot = True)\n",
    "\n",
    "plt.title(\"Correlation matrix for Movies\")\n",
    "\n",
    "plt.xlabel(\"Movie features\")\n",
    "\n",
    "plt.ylabel(\"Movie features\")\n",
    "\n",
    "plt.show()"
   ]
  },
  {
   "cell_type": "code",
   "execution_count": null,
   "id": "5b64f294",
   "metadata": {},
   "outputs": [],
   "source": [
    "for col_name in df.columns:\n",
    "    if(df[col_name].dtype == 'object'):\n",
    "        df[col_name]= df[col_name].astype('category')\n",
    "        df[col_name] = df[col_name].cat.codes"
   ]
  },
  {
   "cell_type": "code",
   "execution_count": null,
   "id": "edc7292f",
   "metadata": {},
   "outputs": [],
   "source": [
    "\n",
    "df[cat_columns] = df[cat_columns].apply(lambda x: x.cat.codes)\n",
    "\n",
    "df"
   ]
  },
  {
   "cell_type": "code",
   "execution_count": null,
   "id": "aa713132",
   "metadata": {},
   "outputs": [],
   "source": [
    "sns.swarmplot(x=\"rating\", y=\"gross\", data=df)\n"
   ]
  },
  {
   "cell_type": "code",
   "execution_count": null,
   "id": "a3393341",
   "metadata": {},
   "outputs": [],
   "source": [
    "sns.stripplot(x=\"rating\", y=\"gross\", data=df)"
   ]
  }
 ],
 "metadata": {
  "kernelspec": {
   "display_name": "Python 3",
   "language": "python",
   "name": "python3"
  },
  "language_info": {
   "codemirror_mode": {
    "name": "ipython",
    "version": 3
   },
   "file_extension": ".py",
   "mimetype": "text/x-python",
   "name": "python",
   "nbconvert_exporter": "python",
   "pygments_lexer": "ipython3",
   "version": "3.7.11"
  }
 },
 "nbformat": 4,
 "nbformat_minor": 5
}
